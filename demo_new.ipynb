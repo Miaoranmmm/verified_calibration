{
 "cells": [
  {
   "cell_type": "markdown",
   "metadata": {},
   "source": [
    "# Comparing the old and new implementation of P-$\\lambda$'s `uncertainty-calibration`\n",
    "\n",
    "Propose: This notebook shows that the two implementations are equivalent on some test cases. \n",
    "\n",
    "Background:  [P-lambdas's calibrator](https://github.com/p-lambda/verified_calibration) (NeuroIPS 2019) is a great package. But it has callables as members of its calibrator cclass, making a trained calibrator cannot be pickled for future use. Now we rewrite it to make it pickl-able. "
   ]
  },
  {
   "cell_type": "code",
   "execution_count": 1,
   "metadata": {},
   "outputs": [],
   "source": [
    "import calibration as cal"
   ]
  },
  {
   "cell_type": "code",
   "execution_count": 2,
   "metadata": {},
   "outputs": [
    {
     "name": "stdout",
     "output_type": "stream",
     "text": [
      "[[6.10515590e-01 3.89484410e-01]\n",
      " [4.74937090e-04 9.99525063e-01]\n",
      " [9.96392910e-01 3.60709000e-03]\n",
      " [2.12215730e-04 9.99787784e-01]\n",
      " [9.95994330e-01 4.00567000e-03]\n",
      " [1.41270020e-03 9.98587300e-01]\n",
      " [2.82629930e-03 9.97173701e-01]]\n"
     ]
    }
   ],
   "source": [
    "raw_probs = [0.61051559, 0.00047493709, 0.99639291, 0.00021221573, 0.99599433, 0.0014127002, 0.0028262993]\n",
    "labels = [1,0,1,0,1,0,0]\n",
    "\n",
    "import numpy as np\n",
    "# turn into two-column array, with the i-th column be the probability of the i-th class\n",
    "raw_probs = np.array(raw_probs) \n",
    "raw_probs = np.vstack((raw_probs, 1-raw_probs)).T\n",
    "\n",
    "print (raw_probs)"
   ]
  },
  {
   "cell_type": "markdown",
   "metadata": {},
   "source": [
    "# Do the old way and new way give the same result?"
   ]
  },
  {
   "cell_type": "code",
   "execution_count": 3,
   "metadata": {},
   "outputs": [],
   "source": [
    "num_bins = 4"
   ]
  },
  {
   "cell_type": "markdown",
   "metadata": {},
   "source": [
    "## The new output "
   ]
  },
  {
   "cell_type": "code",
   "execution_count": 4,
   "metadata": {},
   "outputs": [
    {
     "name": "stdout",
     "output_type": "stream",
     "text": [
      "self._k: 2\n",
      "labels_one_hot: [[0. 1.]\n",
      " [1. 0.]\n",
      " [0. 1.]\n",
      " [1. 0.]\n",
      " [0. 1.]\n",
      " [1. 0.]\n",
      " [1. 0.]]\n",
      "c: 0\n",
      "probs_c [6.1051559e-01 4.7493709e-04 9.9639291e-01 2.1221573e-04 9.9599433e-01\n",
      " 1.4127002e-03 2.8262993e-03]\n",
      "labels_c [0. 1. 0. 1. 0. 1. 1.]\n",
      "logistic_regressor_c: LogisticRegression(C=10000000000.0) [[-4.66513617]] [-7.47650288]\n",
      "platt_probs_c: [6.95504760e-05 1.00000000e+00 2.31271468e-15 1.00000000e+00\n",
      " 3.77816773e-15 1.00000000e+00 9.99999998e-01]\n",
      "binned_values: [[2.3127146823566147e-15, 3.7781677339412375e-15], [6.955047601333205e-05, 0.9999999976968412], [0.9999999999994453, 0.9999999999099543], [0.9999999999999871]]\n",
      "bins [3.477523800855511e-05, 0.9999999988033977, 0.9999999999997162, 1.0]\n",
      "bin_means_c [3.04544121e-15 5.00034774e-01 1.00000000e+00 1.00000000e+00]\n",
      "c: 1\n",
      "probs_c [0.38948441 0.99952506 0.00360709 0.99978778 0.00400567 0.9985873\n",
      " 0.9971737 ]\n",
      "labels_c [1. 0. 1. 0. 1. 0. 0.]\n",
      "logistic_regressor_c: LogisticRegression(C=10000000000.0) [[-4.66513617]] [7.47650288]\n",
      "platt_probs_c: [9.99930450e-01 5.54652828e-13 1.00000000e+00 1.29226372e-14\n",
      " 1.00000000e+00 9.00457819e-11 2.30315874e-09]\n",
      "binned_values: [[5.546528281363806e-13, 1.2922637210065269e-14], [9.004578189963684e-11, 2.3031587350328585e-09], [0.9999304495239867, 0.9999999999999962], [0.9999999999999978]]\n",
      "bins [4.530021736388661e-11, 0.49996522591357273, 0.999999999999997, 1.0]\n",
      "bin_means_c [2.83787733e-13 1.19660226e-09 9.99965225e-01 1.00000000e+00]\n"
     ]
    }
   ],
   "source": [
    "calibrator_new = cal.PlattBinnerMarginalCalibrator(7, num_bins=num_bins, way=\"new\")  # NOTE WAY\n",
    "calibrator_new.train_calibration(raw_probs, labels)\n"
   ]
  },
  {
   "cell_type": "code",
   "execution_count": 5,
   "metadata": {},
   "outputs": [
    {
     "name": "stdout",
     "output_type": "stream",
     "text": [
      "c: 0\n",
      "probs_c: [6.1051559e-01 4.7493709e-04 9.9639291e-01 2.1221573e-04 9.9599433e-01\n",
      " 1.4127002e-03 2.8262993e-03]\n",
      "logistic_regressor_c: LogisticRegression(C=10000000000.0) [[-4.66513617]] [-7.47650288]\n",
      "platt_probs_c: [6.95504760e-05 1.00000000e+00 2.31271468e-15 1.00000000e+00\n",
      " 3.77816773e-15 1.00000000e+00 9.99999998e-01]\n",
      "bin_means_c: [3.04544121e-15 5.00034774e-01 1.00000000e+00 1.00000000e+00]\n",
      "bins_c: [3.477523800855511e-05, 0.9999999988033977, 0.9999999999997162, 1.0]\n",
      "bin_indices: [1 2 0 3 0 2 1]\n",
      "calibrated_probs[:, c] [5.00034774e-01 1.00000000e+00 3.04544121e-15 1.00000000e+00\n",
      " 3.04544121e-15 1.00000000e+00 5.00034774e-01]\n",
      "c: 1\n",
      "probs_c: [0.38948441 0.99952506 0.00360709 0.99978778 0.00400567 0.9985873\n",
      " 0.9971737 ]\n",
      "logistic_regressor_c: LogisticRegression(C=10000000000.0) [[-4.66513617]] [7.47650288]\n",
      "platt_probs_c: [9.99930450e-01 5.54652828e-13 1.00000000e+00 1.29226372e-14\n",
      " 1.00000000e+00 9.00457819e-11 2.30315874e-09]\n",
      "bin_means_c: [2.83787733e-13 1.19660226e-09 9.99965225e-01 1.00000000e+00]\n",
      "bins_c: [4.530021736388661e-11, 0.49996522591357273, 0.999999999999997, 1.0]\n",
      "bin_indices: [2 0 3 0 2 1 1]\n",
      "calibrated_probs[:, c] [9.99965225e-01 2.83787733e-13 1.00000000e+00 2.83787733e-13\n",
      " 9.99965225e-01 1.19660226e-09 1.19660226e-09]\n",
      "[[5.00034774e-01 9.99965225e-01]\n",
      " [1.00000000e+00 2.83787733e-13]\n",
      " [3.04544121e-15 1.00000000e+00]\n",
      " [1.00000000e+00 2.83787733e-13]\n",
      " [3.04544121e-15 9.99965225e-01]\n",
      " [1.00000000e+00 1.19660226e-09]\n",
      " [5.00034774e-01 1.19660226e-09]]\n"
     ]
    }
   ],
   "source": [
    "calibrated_probs = calibrator_new.calibrate(raw_probs) # should only see 4 values per class because num_bins = 4\n",
    "print (calibrated_probs)\n",
    "for c in range(2):\n",
    "    assert len(np.unique(calibrated_probs[:,c])) == num_bins"
   ]
  },
  {
   "cell_type": "code",
   "execution_count": null,
   "metadata": {},
   "outputs": [],
   "source": [
    "calibrator_new._logistic_regressors[0].__dict__"
   ]
  },
  {
   "cell_type": "markdown",
   "metadata": {},
   "source": [
    "## The old output "
   ]
  },
  {
   "cell_type": "code",
   "execution_count": null,
   "metadata": {},
   "outputs": [],
   "source": [
    "calibrator_old = cal.PlattBinnerMarginalCalibrator(7, num_bins=num_bins, way=\"old\")  # NOTE WAY\n",
    "calibrator_old.train_calibration(raw_probs, labels)\n",
    "calibrated_probs = calibrator_old.calibrate(raw_probs) # should only see four values per class because num_bins = 4\n",
    "print (calibrated_probs)\n",
    "for c in range(2):\n",
    "    assert len(np.unique(calibrated_probs[:,c])) == num_bins\n",
    "\n",
    "# However, the probability per row does not add up to 1 always \n",
    "print (np.sum(calibrated_probs, axis=1))"
   ]
  },
  {
   "cell_type": "markdown",
   "metadata": {},
   "source": [
    "## Conclusion: They are the same. But the probabilities per-sample do not always add up to 1. "
   ]
  },
  {
   "cell_type": "markdown",
   "metadata": {},
   "source": [
    "# Now the new calibrator can be pickled because it contains only parameters"
   ]
  },
  {
   "cell_type": "code",
   "execution_count": null,
   "metadata": {},
   "outputs": [],
   "source": [
    "import pickle\n",
    "with open(\"calibrator_new.pkl\", \"wb\") as f:\n",
    "    pickle.dump(calibrator_new, f)"
   ]
  },
  {
   "cell_type": "markdown",
   "metadata": {},
   "source": [
    "## vs the old way that cannot due to containing callables"
   ]
  },
  {
   "cell_type": "code",
   "execution_count": null,
   "metadata": {},
   "outputs": [],
   "source": [
    "with open(\"calibrator_old.pkl\", \"wb\") as f:\n",
    "    pickle.dump(calibrator_old, f)"
   ]
  },
  {
   "cell_type": "code",
   "execution_count": null,
   "metadata": {},
   "outputs": [],
   "source": []
  }
 ],
 "metadata": {
  "kernelspec": {
   "display_name": "Python 3",
   "language": "python",
   "name": "python3"
  },
  "language_info": {
   "codemirror_mode": {
    "name": "ipython",
    "version": 3
   },
   "file_extension": ".py",
   "mimetype": "text/x-python",
   "name": "python",
   "nbconvert_exporter": "python",
   "pygments_lexer": "ipython3",
   "version": "3.9.7"
  }
 },
 "nbformat": 4,
 "nbformat_minor": 2
}
