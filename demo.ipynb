{
 "cells": [
  {
   "cell_type": "markdown",
   "metadata": {},
   "source": [
    "# Comparing the old and new implementation of P-$\\lambda$'s `uncertainty-calibration`\n",
    "\n",
    "Propose: This notebook shows that the two implementations are equivalent on some test cases. \n",
    "\n",
    "Background:  [P-lambdas's calibrator](https://github.com/p-lambda/verified_calibration) (NeuroIPS 2019) is a great package. But it has callables as members of its calibrator cclass, making a trained calibrator cannot be pickled for future use. Now we rewrite it to make it pickl-able. "
   ]
  },
  {
   "cell_type": "code",
   "execution_count": 1,
   "metadata": {},
   "outputs": [],
   "source": [
    "import calibration as cal"
   ]
  },
  {
   "cell_type": "code",
   "execution_count": 2,
   "metadata": {},
   "outputs": [
    {
     "name": "stdout",
     "output_type": "stream",
     "text": [
      "[[6.10515590e-01 3.89484410e-01]\n",
      " [4.74937090e-04 9.99525063e-01]\n",
      " [9.96392910e-01 3.60709000e-03]\n",
      " [2.12215730e-04 9.99787784e-01]\n",
      " [9.95994330e-01 4.00567000e-03]\n",
      " [1.41270020e-03 9.98587300e-01]\n",
      " [2.82629930e-03 9.97173701e-01]]\n"
     ]
    }
   ],
   "source": [
    "raw_probs = [0.61051559, 0.00047493709, 0.99639291, 0.00021221573, 0.99599433, 0.0014127002, 0.0028262993]\n",
    "labels = [1,0,1,0,1,0,0]\n",
    "\n",
    "import numpy as np\n",
    "# turn into two-column array, with the i-th column be the probability of the i-th class\n",
    "raw_probs = np.array(raw_probs) \n",
    "raw_probs = np.vstack((raw_probs, 1-raw_probs)).T\n",
    "\n",
    "print (raw_probs)"
   ]
  },
  {
   "cell_type": "markdown",
   "metadata": {},
   "source": [
    "# Do the old way and new way give the same result?"
   ]
  },
  {
   "cell_type": "code",
   "execution_count": 3,
   "metadata": {},
   "outputs": [],
   "source": [
    "num_bins = 4"
   ]
  },
  {
   "cell_type": "markdown",
   "metadata": {},
   "source": [
    "## The old output "
   ]
  },
  {
   "cell_type": "code",
   "execution_count": 4,
   "metadata": {},
   "outputs": [
    {
     "name": "stdout",
     "output_type": "stream",
     "text": [
      "[[5.00034774e-01 9.99965225e-01]\n",
      " [1.00000000e+00 2.83787733e-13]\n",
      " [3.04544121e-15 1.00000000e+00]\n",
      " [1.00000000e+00 2.83787733e-13]\n",
      " [3.04544121e-15 9.99965225e-01]\n",
      " [1.00000000e+00 1.19660226e-09]\n",
      " [5.00034774e-01 1.19660226e-09]]\n",
      "[1.5        1.         1.         1.         0.99996522 1.\n",
      " 0.50003478]\n"
     ]
    }
   ],
   "source": [
    "calibrator_old = cal.PlattBinnerMarginalCalibrator(7, num_bins=num_bins, way=\"old\")  # NOTE WAY\n",
    "calibrator_old.train_calibration(raw_probs, labels)\n",
    "calibrated_probs = calibrator_old.calibrate(raw_probs) # should only see four values per class because num_bins = 4\n",
    "print (calibrated_probs)\n",
    "for c in range(2):\n",
    "    assert len(np.unique(calibrated_probs[:,c])) == num_bins\n",
    "\n",
    "# However, the probability per row does not add up to 1 always \n",
    "print (np.sum(calibrated_probs, axis=1))"
   ]
  },
  {
   "cell_type": "markdown",
   "metadata": {},
   "source": [
    "## The new output "
   ]
  },
  {
   "cell_type": "code",
   "execution_count": 5,
   "metadata": {},
   "outputs": [
    {
     "name": "stdout",
     "output_type": "stream",
     "text": [
      "[[5.00034774e-01 9.99965225e-01]\n",
      " [1.00000000e+00 2.83787733e-13]\n",
      " [3.04544121e-15 1.00000000e+00]\n",
      " [1.00000000e+00 2.83787733e-13]\n",
      " [3.04544121e-15 9.99965225e-01]\n",
      " [1.00000000e+00 1.19660226e-09]\n",
      " [5.00034774e-01 1.19660226e-09]]\n"
     ]
    }
   ],
   "source": [
    "calibrator_new = cal.PlattBinnerMarginalCalibrator(7, num_bins=num_bins, way=\"new\")  # NOTE WAY\n",
    "calibrator_new.train_calibration(raw_probs, labels)\n",
    "calibrated_probs = calibrator_new.calibrate(raw_probs) # should only see 4 values per class because num_bins = 4\n",
    "print (calibrated_probs)\n",
    "for c in range(2):\n",
    "    assert len(np.unique(calibrated_probs[:,c])) == num_bins"
   ]
  },
  {
   "cell_type": "markdown",
   "metadata": {},
   "source": [
    "## Conclusion: They are the same. But the probabilities per-sample do not always add up to 1. "
   ]
  },
  {
   "cell_type": "markdown",
   "metadata": {},
   "source": [
    "# Now the new calibrator can be pickled because it contains only parameters"
   ]
  },
  {
   "cell_type": "code",
   "execution_count": 6,
   "metadata": {},
   "outputs": [],
   "source": [
    "import pickle\n",
    "with open(\"calibrator_new.pkl\", \"wb\") as f:\n",
    "    pickle.dump(calibrator_new, f)"
   ]
  },
  {
   "cell_type": "markdown",
   "metadata": {},
   "source": [
    "## vs the old way that cannot due to containing callables"
   ]
  },
  {
   "cell_type": "code",
   "execution_count": 7,
   "metadata": {},
   "outputs": [
    {
     "ename": "AttributeError",
     "evalue": "Can't pickle local object 'get_platt_scaler.<locals>.calibrator'",
     "output_type": "error",
     "traceback": [
      "\u001b[0;31m---------------------------------------------------------------------------\u001b[0m",
      "\u001b[0;31mAttributeError\u001b[0m                            Traceback (most recent call last)",
      "\u001b[1;32m/scratch/bao/hem_v2/our_evaluation/verified_calibration/demo.ipynb Cell 14\u001b[0m line \u001b[0;36m<cell line: 1>\u001b[0;34m()\u001b[0m\n\u001b[1;32m      <a href='vscode-notebook-cell://ssh-remote%2Bhomeaway/scratch/bao/hem_v2/our_evaluation/verified_calibration/demo.ipynb#X11sdnNjb2RlLXJlbW90ZQ%3D%3D?line=0'>1</a>\u001b[0m \u001b[39mwith\u001b[39;00m \u001b[39mopen\u001b[39m(\u001b[39m\"\u001b[39m\u001b[39mcalibrator_old.pkl\u001b[39m\u001b[39m\"\u001b[39m, \u001b[39m\"\u001b[39m\u001b[39mwb\u001b[39m\u001b[39m\"\u001b[39m) \u001b[39mas\u001b[39;00m f:\n\u001b[0;32m----> <a href='vscode-notebook-cell://ssh-remote%2Bhomeaway/scratch/bao/hem_v2/our_evaluation/verified_calibration/demo.ipynb#X11sdnNjb2RlLXJlbW90ZQ%3D%3D?line=1'>2</a>\u001b[0m     pickle\u001b[39m.\u001b[39;49mdump(calibrator_old, f)\n",
      "\u001b[0;31mAttributeError\u001b[0m: Can't pickle local object 'get_platt_scaler.<locals>.calibrator'"
     ]
    }
   ],
   "source": [
    "with open(\"calibrator_old.pkl\", \"wb\") as f:\n",
    "    pickle.dump(calibrator_old, f)"
   ]
  },
  {
   "cell_type": "code",
   "execution_count": null,
   "metadata": {},
   "outputs": [],
   "source": []
  }
 ],
 "metadata": {
  "kernelspec": {
   "display_name": "Python 3",
   "language": "python",
   "name": "python3"
  },
  "language_info": {
   "codemirror_mode": {
    "name": "ipython",
    "version": 3
   },
   "file_extension": ".py",
   "mimetype": "text/x-python",
   "name": "python",
   "nbconvert_exporter": "python",
   "pygments_lexer": "ipython3",
   "version": "3.10.6"
  }
 },
 "nbformat": 4,
 "nbformat_minor": 2
}
